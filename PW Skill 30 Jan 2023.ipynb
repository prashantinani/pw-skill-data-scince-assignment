{
 "cells": [
  {
   "cell_type": "markdown",
   "id": "299f5b4f",
   "metadata": {},
   "source": [
    "Q-1 Write code for check grade given percentage."
   ]
  },
  {
   "cell_type": "code",
   "execution_count": 1,
   "id": "812f75b1",
   "metadata": {},
   "outputs": [
    {
     "name": "stdout",
     "output_type": "stream",
     "text": [
      "Enter the value of percemtage4\n",
      "D\n"
     ]
    }
   ],
   "source": [
    "Percentage=int(input(\"Enter the value of percemtage\")) #input \n",
    "if Percentage >90:\n",
    "    print(\"A\")\n",
    "elif Percentage >80 and Percentage <=90:\n",
    "    print(\"B\")    \n",
    "elif Percentage >=60 and Percentage <=80:\n",
    "    print(\"C\")\n",
    "else:\n",
    "    print(\"D\")"
   ]
  },
  {
   "cell_type": "markdown",
   "id": "981ea800",
   "metadata": {},
   "source": [
    "Q-2 Write code for check road tax for  given bike price. "
   ]
  },
  {
   "cell_type": "code",
   "execution_count": 2,
   "id": "bceb29a4",
   "metadata": {},
   "outputs": [
    {
     "name": "stdout",
     "output_type": "stream",
     "text": [
      "Enter bike price =5\n",
      "Road Tax is 5%\n"
     ]
    }
   ],
   "source": [
    "Bike_price=int(input(\"Enter bike price =\"))\n",
    "if Bike_price > 100000:\n",
    "    print(\" Road Tax is 15%\")\n",
    "elif Bike_price<=100000 and Bike_price>50000:\n",
    "    print(\" Road Tax is 10%\")  \n",
    "else:\n",
    "    print(\"Road Tax is 5%\")"
   ]
  },
  {
   "cell_type": "markdown",
   "id": "24fbaafa",
   "metadata": {},
   "source": [
    "Q-3 city and momentum"
   ]
  },
  {
   "cell_type": "code",
   "execution_count": 4,
   "id": "eb1b9f65",
   "metadata": {},
   "outputs": [
    {
     "name": "stdout",
     "output_type": "stream",
     "text": [
      "Pickup one city from Delhi, Agra ,Jaipur:-Delhi\n",
      "Monument of Delhi is Red fort\n"
     ]
    }
   ],
   "source": [
    "city=str(input(\"Pickup one city from Delhi, Agra ,Jaipur:-\"))\n",
    "if city == \"Delhi\":\n",
    "    print(\"Monument of Delhi is Red fort\")\n",
    "elif city == \"Agra\":\n",
    "    print(\"Monument of Agra is Taj mahal\")\n",
    "elif city==\"Jaipur\":\n",
    "    print(\"Monument of Jaipur is Jal mahal\")    \n",
    "else:\n",
    "    print(\"enter correct city\")"
   ]
  },
  {
   "cell_type": "markdown",
   "id": "b5b712cd",
   "metadata": {},
   "source": [
    "4.Check how many times a given number can be divide by 3 before it is less then or equal to 10"
   ]
  },
  {
   "cell_type": "code",
   "execution_count": 7,
   "id": "4a00a5a0",
   "metadata": {},
   "outputs": [
    {
     "name": "stdout",
     "output_type": "stream",
     "text": [
      "3\n"
     ]
    }
   ],
   "source": [
    "number =100\n",
    "count=0\n",
    "while number>10:\n",
    "    number=number/3\n",
    "    count=count+1\n",
    "print(count)    \n",
    "    "
   ]
  },
  {
   "cell_type": "code",
   "execution_count": 9,
   "id": "eeb31cd9",
   "metadata": {},
   "outputs": [
    {
     "name": "stdout",
     "output_type": "stream",
     "text": [
      "55\n"
     ]
    }
   ],
   "source": [
    "# 5.Why and when to use while loop in python with example?\n",
    "#The \"while\" loop in Python is used to repeatedly execute a block of code as long as a given condition is true.\n",
    "sum = 0\n",
    "i = 1\n",
    "\n",
    "while i <= 10:\n",
    "    sum = sum + i\n",
    "    i = i + 1\n",
    "\n",
    "print(sum)"
   ]
  },
  {
   "cell_type": "code",
   "execution_count": 11,
   "id": "f37c7c4a",
   "metadata": {},
   "outputs": [
    {
     "name": "stdout",
     "output_type": "stream",
     "text": [
      "* \n",
      "* * \n",
      "* * * \n",
      "* * * * \n",
      "* * * * * \n",
      "    *\n",
      "   ***\n",
      "  *****\n",
      " *******\n",
      "*********\n",
      "    *\n",
      "   ***\n",
      "  *****\n",
      " *******\n",
      "*********\n",
      " *******\n",
      "  *****\n",
      "   ***\n",
      "    *\n"
     ]
    }
   ],
   "source": [
    "# 6.Use nested while loop to print 3 different pattern\n",
    "#Triangle pattern:\n",
    "rows = 5\n",
    "for i in range(1, rows + 1):\n",
    "    for j in range(1, i + 1):\n",
    "        print(\"*\", end=\" \")\n",
    "    print(\"\")\n",
    "    \n",
    "#Pyramid pattern:\n",
    "rows = 5\n",
    "for i in range(1, rows + 1):\n",
    "    for j in range(rows - i):\n",
    "        print(\" \", end=\"\")\n",
    "    for k in range(1, 2 * i):\n",
    "        print(\"*\", end=\"\")\n",
    "    print(\"\")\n",
    "    \n",
    "#Diamond pattern:\n",
    "rows = 5\n",
    "for i in range(1, rows + 1):\n",
    "    for j in range(rows - i):\n",
    "        print(\" \", end=\"\")\n",
    "    for k in range(1, 2 * i):\n",
    "        print(\"*\", end=\"\")\n",
    "    print(\"\")\n",
    "\n",
    "for i in range(rows - 1, 0, -1):\n",
    "    for j in range(rows - i):\n",
    "        print(\" \", end=\"\")\n",
    "    for k in range(1, 2 * i):\n",
    "        print(\"*\", end=\"\")\n",
    "    print(\"\")"
   ]
  },
  {
   "cell_type": "code",
   "execution_count": 12,
   "id": "360dc40e",
   "metadata": {},
   "outputs": [
    {
     "name": "stdout",
     "output_type": "stream",
     "text": [
      "10\n",
      "9\n",
      "8\n",
      "7\n",
      "6\n",
      "5\n",
      "4\n",
      "3\n",
      "2\n",
      "1\n"
     ]
    }
   ],
   "source": [
    "# 7.Reverse while loop to display numbers from 10 to 1\n",
    "n=10\n",
    "while n>=1:\n",
    "    print(n)\n",
    "    n=n-1\n",
    "    \n",
    "    "
   ]
  },
  {
   "cell_type": "code",
   "execution_count": 17,
   "id": "721b1ce4",
   "metadata": {},
   "outputs": [
    {
     "name": "stdout",
     "output_type": "stream",
     "text": [
      "10\n",
      "9\n",
      "8\n",
      "7\n",
      "6\n",
      "5\n",
      "4\n",
      "3\n",
      "2\n",
      "1\n"
     ]
    }
   ],
   "source": [
    "# 8.Reverse while loop to display numbers from 10 to 1\n",
    "number=10\n",
    "while number>=1:\n",
    "    print(number)\n",
    "    number=number-1"
   ]
  },
  {
   "cell_type": "code",
   "execution_count": null,
   "id": "b19e403a",
   "metadata": {},
   "outputs": [],
   "source": []
  }
 ],
 "metadata": {
  "kernelspec": {
   "display_name": "Python 3 (ipykernel)",
   "language": "python",
   "name": "python3"
  },
  "language_info": {
   "codemirror_mode": {
    "name": "ipython",
    "version": 3
   },
   "file_extension": ".py",
   "mimetype": "text/x-python",
   "name": "python",
   "nbconvert_exporter": "python",
   "pygments_lexer": "ipython3",
   "version": "3.9.12"
  }
 },
 "nbformat": 4,
 "nbformat_minor": 5
}
