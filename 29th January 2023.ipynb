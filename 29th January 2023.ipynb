{
 "cells": [
  {
   "cell_type": "markdown",
   "id": "63188449",
   "metadata": {},
   "source": [
    "# Assignment 29 january 2023"
   ]
  },
  {
   "cell_type": "markdown",
   "id": "3a0a1e35",
   "metadata": {},
   "source": [
    " Q1. Who developed Python Programming Language?\n",
    "\n",
    "Ans. Guido van Rossum developed Python Programming Language.\n",
    "                                                                "
   ]
  },
  {
   "cell_type": "markdown",
   "id": "6468e36a",
   "metadata": {},
   "source": [
    "# "
   ]
  },
  {
   "cell_type": "markdown",
   "id": "cd0364c0",
   "metadata": {},
   "source": [
    "# Question 2 : Which type of Programming does Python support ?"
   ]
  },
  {
   "cell_type": "markdown",
   "id": "6bc4bf8a",
   "metadata": {},
   "source": [
    " Python is an interpreted programming language, supporting object-oriented, structured, and functional programming. It is high level programming language with dynamic semantics."
   ]
  },
  {
   "cell_type": "markdown",
   "id": "1d7b0976",
   "metadata": {},
   "source": [
    "#  Q-3 Is Python case senstive when dealing with identifiers ?"
   ]
  },
  {
   "cell_type": "markdown",
   "id": "0b11993d",
   "metadata": {},
   "source": [
    "Yes,Python programming language is case senstive when dealing with indentifier. It is highly important to be precise and follow the identifier naming convention to make the code easily readable and organized. An Example is given below to justify the answer."
   ]
  },
  {
   "cell_type": "code",
   "execution_count": 5,
   "id": "98b88fe9",
   "metadata": {},
   "outputs": [
    {
     "name": "stdout",
     "output_type": "stream",
     "text": [
      "Prashant\n"
     ]
    },
    {
     "ename": "NameError",
     "evalue": "name 'sir_name' is not defined",
     "output_type": "error",
     "traceback": [
      "\u001b[1;31m---------------------------------------------------------------------------\u001b[0m",
      "\u001b[1;31mNameError\u001b[0m                                 Traceback (most recent call last)",
      "Input \u001b[1;32mIn [5]\u001b[0m, in \u001b[0;36m<cell line: 4>\u001b[1;34m()\u001b[0m\n\u001b[0;32m      2\u001b[0m Sir_name\u001b[38;5;241m=\u001b[39m\u001b[38;5;124m\"\u001b[39m\u001b[38;5;124mInani\u001b[39m\u001b[38;5;124m\"\u001b[39m\n\u001b[0;32m      3\u001b[0m \u001b[38;5;28mprint\u001b[39m(name)\n\u001b[1;32m----> 4\u001b[0m \u001b[38;5;28mprint\u001b[39m(\u001b[43msir_name\u001b[49m)\n",
      "\u001b[1;31mNameError\u001b[0m: name 'sir_name' is not defined"
     ]
    }
   ],
   "source": [
    "name=\"Prashant\"\n",
    "Sir_name=\"Inani\"\n",
    "print(name)\n",
    "print(sir_name)"
   ]
  },
  {
   "cell_type": "markdown",
   "id": "b7ac862f",
   "metadata": {},
   "source": [
    "# Question 4 : What is the correct extension of the Python file ?"
   ]
  },
  {
   "cell_type": "markdown",
   "id": "1a7338fa",
   "metadata": {},
   "source": [
    "Ans: The extensions used for Python files are - .py, .pyi, .pyc, .pyd, .pyo, .pyw, and .pyz."
   ]
  },
  {
   "cell_type": "markdown",
   "id": "ff98cfce",
   "metadata": {},
   "source": [
    "# Question 5 : Is Python code compiled or interpreted ?"
   ]
  },
  {
   "cell_type": "markdown",
   "id": "873ea96a",
   "metadata": {},
   "source": [
    "Python language is interpreted,But Python code is compiled first and interpreted after. Compilation part remains hidden from the programmer. Compilation part is deleted by python as soon as the code is executed to avoid any complexity."
   ]
  },
  {
   "cell_type": "markdown",
   "id": "4e381237",
   "metadata": {},
   "source": [
    "# Question 6 : Name a few block of code used to define in Python language?"
   ]
  },
  {
   "cell_type": "markdown",
   "id": "567c5a91",
   "metadata": {},
   "source": [
    "Ans:\n",
    "Following are the Block of the code used to define in Python Language:\n",
    "\n",
    "Module\n",
    "Class\n",
    "Function body\n",
    "If,Else\n",
    "Loops\n",
    "These blocks of code are those which are executed as single unit"
   ]
  },
  {
   "cell_type": "markdown",
   "id": "17528b36",
   "metadata": {},
   "source": [
    "# Question 7 : State a character used to give single-line comments in Python?"
   ]
  },
  {
   "cell_type": "markdown",
   "id": "37cc5c66",
   "metadata": {},
   "source": [
    "Ans: \" \"(Double quotes) or ' '(Single quotes) are used to give-line comments in Python.\n",
    "\n",
    " #(hash) is also used to give single line comments within the code."
   ]
  },
  {
   "cell_type": "code",
   "execution_count": 7,
   "id": "b96309e1",
   "metadata": {},
   "outputs": [
    {
     "data": {
      "text/plain": [
       "'this is my asssingment'"
      ]
     },
     "execution_count": 7,
     "metadata": {},
     "output_type": "execute_result"
    }
   ],
   "source": [
    "'this is my asssingment'"
   ]
  },
  {
   "cell_type": "markdown",
   "id": "e9d17e84",
   "metadata": {},
   "source": [
    "# Question 8 : Mention which function can help us to find the version of Python that we are currently working on?"
   ]
  },
  {
   "cell_type": "markdown",
   "id": "685bf46c",
   "metadata": {},
   "source": [
    "Ans: Python_version() funtion is used to find the version of Python that we are currently working on."
   ]
  },
  {
   "cell_type": "code",
   "execution_count": 15,
   "id": "9bb1ea2e",
   "metadata": {},
   "outputs": [
    {
     "name": "stdout",
     "output_type": "stream",
     "text": [
      "3.9.12 (main, Apr  4 2022, 05:22:27) [MSC v.1916 64 bit (AMD64)]\n",
      "sys.version_info(major=3, minor=9, micro=12, releaselevel='final', serial=0)\n"
     ]
    }
   ],
   "source": [
    "import sys \n",
    "print(sys.version)\n",
    "print(sys.version_info)"
   ]
  },
  {
   "cell_type": "markdown",
   "id": "08b036a0",
   "metadata": {},
   "source": [
    "# Question 9 : Python support the creation of anonymous function at runtime,using a construct called _____________?"
   ]
  },
  {
   "cell_type": "markdown",
   "id": "6384d1d8",
   "metadata": {},
   "source": [
    "Ans: lambda"
   ]
  },
  {
   "cell_type": "code",
   "execution_count": 22,
   "id": "1e998827",
   "metadata": {},
   "outputs": [
    {
     "data": {
      "text/plain": [
       "4"
      ]
     },
     "execution_count": 22,
     "metadata": {},
     "output_type": "execute_result"
    }
   ],
   "source": [
    "#lamda function\n",
    "k=lambda x:x**2\n",
    "k(2)"
   ]
  },
  {
   "cell_type": "markdown",
   "id": "ea9b4f37",
   "metadata": {},
   "source": [
    "# Question 10 : What does pip stands for Python ?"
   ]
  },
  {
   "cell_type": "markdown",
   "id": "9cab19c5",
   "metadata": {},
   "source": [
    "Ans: pip stands for \"Preferred Installer Program\". It is used to install python packages.Pip allows you to easily install third-party libraries, frameworks, and tools that extend the functionality of Python. It retrieves packages from the Python Package Index (PyPI) or other package repositories and handles dependencies to ensure that the required dependencies are installed along with the desired package."
   ]
  },
  {
   "cell_type": "markdown",
   "id": "bbe0d07f",
   "metadata": {},
   "source": [
    "# Question 11: Mention a few built in functions in python?"
   ]
  },
  {
   "cell_type": "markdown",
   "id": "ec5b5475",
   "metadata": {},
   "source": [
    "Ans: Following are the built-in fuctions in Python Language:\n",
    "\n",
    "print(): Outputs text or variables to the console.\n",
    "len(): Returns the length of an object, such as a string, list, or tuple.\n",
    "input():Reads input from the user via the console.\n",
    "sum():Returns the sum of all elements in a sequence.\n",
    "max():Returns the MAX of all elements in a sequence.\n"
   ]
  },
  {
   "cell_type": "markdown",
   "id": "cc30f006",
   "metadata": {},
   "source": [
    "# Question 12: What is the maximum possible length of the identifier in Python?"
   ]
  },
  {
   "cell_type": "markdown",
   "id": "fd457062",
   "metadata": {},
   "source": [
    "Ans : An identifier can have maximum length of 79 Characters."
   ]
  },
  {
   "cell_type": "markdown",
   "id": "8a8d00f2",
   "metadata": {},
   "source": [
    "# Question 13: What are the benefits of using Python?"
   ]
  },
  {
   "cell_type": "markdown",
   "id": "baff2e93",
   "metadata": {},
   "source": [
    "Ans: Following are the some reason why people prefer Python:\n",
    "\n",
    "Quality of Software\n",
    "Productivity of Developers\n",
    "Portability\n",
    "Supporting Libraries\n",
    "Fun to use\n",
    "Easy to learn and write\n",
    "Dynamically Typed\n",
    "Free and Open source\n",
    "Interpreted Language\n",
    "Python programming is a general-purpose skill used in almost all fields, including:\n",
    "\n",
    "Data science,AI and ML.\n",
    "Scientific and mathematical computing.\n",
    "Web development.\n",
    "Finance and trading.\n",
    "System automation and administration.\n",
    "Computer graphics.\n",
    "Basic game development.\n",
    "Security and penetration testing\n",
    "Mapping and Geopgraphy"
   ]
  },
  {
   "cell_type": "markdown",
   "id": "9a9f8eaf",
   "metadata": {},
   "source": [
    "# Question 14: How is memory managed in Python?"
   ]
  },
  {
   "cell_type": "markdown",
   "id": "b0a1c930",
   "metadata": {},
   "source": [
    "Ans : Python has the private heap that stores the objects and variables. Python memory manager takes care of memory managment allowing us to concentrate on the code.\n",
    "\n",
    "There are two memory allocation techniques python manager uses:\n",
    "\n",
    "Static memory Allocation : Variables are stored in the static memory.The name implies that they must be allocated in advance and continue throughout the program. This type of memmory allocation does not allow memory reusability.\n",
    "Example :\n",
    "\n",
    "a = 2\n",
    "\n",
    "list = []\n",
    "\n",
    "str = ''\n",
    "\n",
    "Dynamic Memory allocation: It uses the heap data structure to allocate the memory. The name implies that variables and objects are stored in dynamic memory ie not permannet throughout the program and can be changed during the runtime. This type of memory allocation does allow memory reusablility.\n"
   ]
  },
  {
   "cell_type": "markdown",
   "id": "9ddaf415",
   "metadata": {},
   "source": [
    "# Question 15: How to install Python on windows and set path Variables?"
   ]
  },
  {
   "cell_type": "markdown",
   "id": "52048543",
   "metadata": {},
   "source": [
    "Ans : INSTALLATION PROCEDURE:\n",
    "\n",
    "Go to the official Python download page for Windows(https://www.python.org/downloads/) and download the recent version of python by clicking the highlighted rectangular box named download python 3.11.2."
   ]
  },
  {
   "cell_type": "markdown",
   "id": "f814a741",
   "metadata": {},
   "source": [
    "# Question 16: Is indentation is required in Python?"
   ]
  },
  {
   "cell_type": "code",
   "execution_count": null,
   "id": "83599a8e",
   "metadata": {},
   "outputs": [],
   "source": [
    "Ans : INSTALLATION PROCEDURE:\n",
    "\n",
    "Go to the official Python download page for Windows(https://www.python.org/downloads/) and download the recent version of python by clicking the highlighted rectangular box named download python 3.11.2.\n"
   ]
  }
 ],
 "metadata": {
  "kernelspec": {
   "display_name": "Python 3 (ipykernel)",
   "language": "python",
   "name": "python3"
  },
  "language_info": {
   "codemirror_mode": {
    "name": "ipython",
    "version": 3
   },
   "file_extension": ".py",
   "mimetype": "text/x-python",
   "name": "python",
   "nbconvert_exporter": "python",
   "pygments_lexer": "ipython3",
   "version": "3.9.12"
  }
 },
 "nbformat": 4,
 "nbformat_minor": 5
}
