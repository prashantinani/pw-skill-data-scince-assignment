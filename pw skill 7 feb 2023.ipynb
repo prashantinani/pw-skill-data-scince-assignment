{
 "cells": [
  {
   "cell_type": "code",
   "execution_count": null,
   "id": "157a5575",
   "metadata": {},
   "outputs": [],
   "source": [
    "\"\"\"\n",
    "Q1. You are writing code for a company. The requirement of the company is that you create a python\n",
    "function that will check whether the password entered by the user is correct or not. The function should\n",
    "take the password as input and return the string “Valid Password” if the entered password follows the\n",
    "below-given password guidelines else it should return “Invalid Password”.\n",
    "Note: 1. The Password should contain at least two uppercase letters and at least two lowercase letters.\n",
    "2. The Password should contain at least a number and three special characters.\n",
    "3. The length of the password should be 10 characters long. \"\"\"\n",
    "#Ans.\n",
    "import re\n",
    "def check_password(password):\n",
    "    if len(password) <=10:\n",
    "        return \"invalid password\"\n",
    "    uparcheck=re.compile(r'[A-Z]{2,}')\n",
    "    if not uparcheck.search(password):\n",
    "        return \"invalid password\"\n",
    "    lowercheck=re.compile(r'[a-z]{2,}')\n",
    "    if not lowercheck.search(password):\n",
    "        return\"invalid password\"\n",
    "    numbercheck=re.compile(r'\\d+')\n",
    "    if not numbercheck.search(password):\n",
    "        return\"invalid password\"\n",
    "    symbolcheck=re.compile(r'[!@#$%^&*()]')\n",
    "    if len(symbolcheck.findall(password))<3:\n",
    "        return\"invalid password\"\n",
    "                           \n",
    "    return \"valid password\""
   ]
  },
  {
   "cell_type": "code",
   "execution_count": null,
   "id": "8b2613d5",
   "metadata": {},
   "outputs": [],
   "source": [
    "k=check_password(\"PRashant@#28\")\n",
    "print(k)"
   ]
  },
  {
   "cell_type": "code",
   "execution_count": null,
   "id": "f159552d",
   "metadata": {},
   "outputs": [],
   "source": [
    "   \"\"\"\n",
    "Q2. Solve the below-given questions using at least one of the following:\n",
    "1. Lambda function\n",
    "2. Filter function\n",
    "3. Zap function\n",
    "4. List Comprehension\n",
    "-> Check if the string starts with a particular letter\n",
    "-> Check if the string is numeric\n",
    "-> Sort a list of tuples having fruit names and their quantity. [(\"mango\",99),(\"orange\",80), (\"grapes\", 1000)-\n",
    "-> Find the squares of numbers from 1 to 10\n",
    "-> Find the cube root of numbers from 1 to 10\n",
    "-> Check if a given number is even\n",
    "-> Filter odd numbers from the given list.\n",
    "[1,2,3,4,5,6,7,8,9,10-\n",
    "-> Sort a list of integers into positive and negative integers lists.\n",
    "[1,2,3,4,5,6,-1,-2,-3,-4,-5,0]\n",
    "\"\"\"\n",
    "    \n",
    "k = lambda x:x.startswith(\"A\") # Check if the string starts with a particular letter\n",
    "print(k(\"Apple\"))"
   ]
  },
  {
   "cell_type": "code",
   "execution_count": null,
   "id": "a294c6f0",
   "metadata": {},
   "outputs": [],
   "source": [
    "n= lambda x:x.isnumeric() #Check if the string is numeric\n",
    "print(n(\"12345\"))"
   ]
  },
  {
   "cell_type": "code",
   "execution_count": null,
   "id": "542f05c8",
   "metadata": {},
   "outputs": [],
   "source": [
    "p=lambda x:x%2==0  #Check if a given number is even\n",
    "print(p(5))"
   ]
  },
  {
   "cell_type": "code",
   "execution_count": null,
   "id": "123ea3fa",
   "metadata": {},
   "outputs": [],
   "source": [
    "import math\n",
    "n=lambda x:round(math.pow(x,1/3),2)  #Find the cube root of numbers from 1 to 10\n",
    "print(list(n(x) for x in range(1,30)))"
   ]
  },
  {
   "cell_type": "code",
   "execution_count": null,
   "id": "53b8ba10",
   "metadata": {},
   "outputs": [],
   "source": [
    "list1=[1,2,3,4,5,6,7,8,9,10]\n",
    "f1=filter(lambda x:x%2!=0,list1)\n",
    "print(f1)"
   ]
  },
  {
   "cell_type": "code",
   "execution_count": null,
   "id": "4417075a",
   "metadata": {},
   "outputs": [],
   "source": [
    "d=map(lambda x :x**2,range(1,11))  #Find the squares of numbers from 1 to 10\n",
    "print(d)"
   ]
  },
  {
   "cell_type": "code",
   "execution_count": null,
   "id": "521f1a6f",
   "metadata": {},
   "outputs": [],
   "source": [
    "#Sort a list of integers into positive and negative integers lists.\n",
    "list2=[1,2,3,4,5,6,-1,-2,-3,-4,-5,0]\n",
    "positive=[x for x in list2 if x>0]\n",
    "negative=[x for x in list2 if x<0]\n",
    "print(positive)\n",
    "print(negative)"
   ]
  },
  {
   "cell_type": "code",
   "execution_count": null,
   "id": "43541ded",
   "metadata": {},
   "outputs": [],
   "source": [
    "#Sort a list of tuples having fruit names and their quantity. [(\"mango\",99),(\"orange\",80), (\"grapes\", 1000)-\n",
    "list_1=[(\"mango\",99),(\"orange\",80), (\"grapes\", 1000)]\n",
    "t= sorted(list_1,key=lambda x: x[1])\n",
    "print(t)"
   ]
  },
  {
   "cell_type": "code",
   "execution_count": null,
   "id": "686c4b44",
   "metadata": {},
   "outputs": [],
   "source": []
  },
  {
   "cell_type": "code",
   "execution_count": null,
   "id": "d0bb39f1",
   "metadata": {},
   "outputs": [],
   "source": []
  }
 ],
 "metadata": {
  "kernelspec": {
   "display_name": "Python 3 (ipykernel)",
   "language": "python",
   "name": "python3"
  },
  "language_info": {
   "codemirror_mode": {
    "name": "ipython",
    "version": 3
   },
   "file_extension": ".py",
   "mimetype": "text/x-python",
   "name": "python",
   "nbconvert_exporter": "python",
   "pygments_lexer": "ipython3",
   "version": "3.9.12"
  }
 },
 "nbformat": 4,
 "nbformat_minor": 5
}
