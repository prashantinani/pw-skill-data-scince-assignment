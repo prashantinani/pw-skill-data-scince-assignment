{
 "cells": [
  {
   "cell_type": "markdown",
   "id": "d3f8555b",
   "metadata": {},
   "source": [
    "# #Q1. Create a function which will take a list as an argument and return the product of all the numbers after creating a flat list. \n",
    "#Use the below-given list as an argument for your function.\n",
    "#Ans."
   ]
  },
  {
   "cell_type": "code",
   "execution_count": 3,
   "id": "0402d933",
   "metadata": {},
   "outputs": [
    {
     "name": "stdout",
     "output_type": "stream",
     "text": [
      "Product of all numbers: 0\n"
     ]
    }
   ],
   "source": [
    "from functools import reduce\n",
    "from operator import mul\n",
    "def flatten_and_multiply(nested_list):\n",
    "    def flatten(lst):\n",
    "        for item in lst:\n",
    "            if isinstance(item, (list, tuple, dict)):\n",
    "                yield from flatten(item)\n",
    "            else:\n",
    "                yield item\n",
    "\n",
    "    flattened_list = list(flatten(nested_list))\n",
    "    numbers = [x for x in flattened_list if isinstance(x, int) or isinstance(x, float)]\n",
    "    return reduce(mul, numbers) if numbers else 0\n",
    "\n",
    "list1 = [1, 2, 3, 4, [44, 55, 66, True], False, (34, 56, 78, 89, 34), {1, 2, 3, 3, 2, 1}, {1:34, \"key2\": [55, 67, 78, 89], 4: (45, 22, 61, 34)}, [56, 'data science'], 'Machine Learning']\n",
    "product = flatten_and_multiply(list1)\n",
    "print(\"Product of all numbers:\", product)"
   ]
  },
  {
   "cell_type": "code",
   "execution_count": null,
   "id": "6f0d9e91",
   "metadata": {},
   "outputs": [],
   "source": []
  },
  {
   "cell_type": "markdown",
   "id": "06b70929",
   "metadata": {},
   "source": [
    "# Q2. Write a python program for encrypting a message sent to you by your friend. The logic of encryption should be such that, for a the output should be z. For b, the output should be y. For c, the output should be x respectively. Also, the whitespace should be replaced with a dollar sign. Keep the punctuation marks unchanged. Input Sentence: I want to become a Data Scientist. Encrypt the above input sentence using the program you just created. Note: Convert the given input sentence into lowercase before encrypting. The final output should be lowercase.\n",
    "\n",
    "​"
   ]
  },
  {
   "cell_type": "code",
   "execution_count": 1,
   "id": "e5e7c60f",
   "metadata": {},
   "outputs": [],
   "source": [
    "def encrypting_message(sentance):\n",
    "    sentance=sentance.lower()\n",
    "    p=\"\"\n",
    "    for char in sentance:\n",
    "        if char==\" \":\n",
    "            p+=\"$\"\n",
    "        elif char.isalpha():\n",
    "            p+=chr(219-ord(char))\n",
    "        else:\n",
    "            p+= char\n",
    "    return p        "
   ]
  },
  {
   "cell_type": "code",
   "execution_count": 2,
   "id": "fa962817",
   "metadata": {},
   "outputs": [
    {
     "name": "stdout",
     "output_type": "stream",
     "text": [
      "r$dzmg$gl$yvxlnv$z$wzgz$hxrvmgrhg\n"
     ]
    }
   ],
   "source": [
    "k=encrypting_message(\"I want to become a Data Scientist\")\n",
    "print(k)"
   ]
  },
  {
   "cell_type": "code",
   "execution_count": null,
   "id": "855f7709",
   "metadata": {},
   "outputs": [],
   "source": []
  }
 ],
 "metadata": {
  "kernelspec": {
   "display_name": "Python 3 (ipykernel)",
   "language": "python",
   "name": "python3"
  },
  "language_info": {
   "codemirror_mode": {
    "name": "ipython",
    "version": 3
   },
   "file_extension": ".py",
   "mimetype": "text/x-python",
   "name": "python",
   "nbconvert_exporter": "python",
   "pygments_lexer": "ipython3",
   "version": "3.9.12"
  }
 },
 "nbformat": 4,
 "nbformat_minor": 5
}
